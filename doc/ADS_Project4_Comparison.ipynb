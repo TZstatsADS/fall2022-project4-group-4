{
  "nbformat": 4,
  "nbformat_minor": 0,
  "metadata": {
    "colab": {
      "provenance": []
    },
    "kernelspec": {
      "name": "python3",
      "display_name": "Python 3"
    },
    "language_info": {
      "name": "python"
    }
  },
  "cells": [
    {
      "cell_type": "code",
      "source": [
        "import numpy as np\n",
        "import matplotlib.pyplot as plt"
      ],
      "metadata": {
        "id": "TJewdDNXjyBX"
      },
      "execution_count": 3,
      "outputs": []
    },
    {
      "cell_type": "code",
      "execution_count": 1,
      "metadata": {
        "colab": {
          "base_uri": "https://localhost:8080/"
        },
        "id": "Z4He2alacWp2",
        "outputId": "bda93d53-d882-4d32-8b10-3d3ef60884c2"
      },
      "outputs": [
        {
          "output_type": "stream",
          "name": "stdout",
          "text": [
            "Mounted at /content/drive\n"
          ]
        }
      ],
      "source": [
        "\n",
        "from google.colab import drive\n",
        "drive.mount('/content/drive')\n"
      ]
    },
    {
      "cell_type": "code",
      "source": [
        "with open('/content/drive/My Drive/results_LFR.txt', 'r') as f:\n",
        "     results_LFR = np.loadtxt(f)"
      ],
      "metadata": {
        "id": "dR3ojMaBjrF5"
      },
      "execution_count": 27,
      "outputs": []
    },
    {
      "cell_type": "code",
      "source": [
        "result_LFR = np.delete(results_LFR,2)\n",
        "result_PR = np.array([0.5705,0.13])"
      ],
      "metadata": {
        "id": "r51rmjIVmVtL"
      },
      "execution_count": 28,
      "outputs": []
    },
    {
      "cell_type": "code",
      "source": [
        "result_LFR"
      ],
      "metadata": {
        "colab": {
          "base_uri": "https://localhost:8080/"
        },
        "id": "K-BQLVbPp8to",
        "outputId": "47a38777-fe9e-4a8f-f07e-7e2f11fdc488"
      },
      "execution_count": 29,
      "outputs": [
        {
          "output_type": "execute_result",
          "data": {
            "text/plain": [
              "array([0.4778, 0.1092])"
            ]
          },
          "metadata": {},
          "execution_count": 29
        }
      ]
    },
    {
      "cell_type": "code",
      "source": [
        "result_PR"
      ],
      "metadata": {
        "colab": {
          "base_uri": "https://localhost:8080/"
        },
        "id": "uMDFRy3GqBGT",
        "outputId": "74a59d03-1272-4a07-d00b-79198cf6eb87"
      },
      "execution_count": 30,
      "outputs": [
        {
          "output_type": "execute_result",
          "data": {
            "text/plain": [
              "array([0.5705, 0.13  ])"
            ]
          },
          "metadata": {},
          "execution_count": 30
        }
      ]
    },
    {
      "cell_type": "code",
      "source": [
        "index = np.arange(2)\n",
        "bar_width = 0.35\n",
        "\n",
        "accuracy =  np.array(result_PR[0],result_LFR[0])\n",
        "calibrition = np.array(result_PR[1],result_LFR[1])\n",
        "fig, ax = plt.subplots()\n",
        "A = ax.bar(index, result_PR, bar_width,\n",
        "                label=\"PR\")\n",
        "\n",
        "B = ax.bar(index+bar_width, result_LFR, bar_width,\n",
        "                label=\"LFR\")\n",
        "\n",
        "ax.set_xlabel('Algorithms')\n",
        "ax.set_xticks(index + bar_width / 2)\n",
        "ax.set_xticklabels( ('Accuracy',\"Calibrition\") )\n",
        "ax.set_title('Algorithms Performance')\n",
        "\n",
        "ax.legend()\n",
        "\n",
        "plt.show()"
      ],
      "metadata": {
        "colab": {
          "base_uri": "https://localhost:8080/",
          "height": 295
        },
        "id": "mtVhN6KclFkw",
        "outputId": "e6bc7d68-e188-4b3f-c3c1-86c6d09a7e71"
      },
      "execution_count": 38,
      "outputs": [
        {
          "output_type": "display_data",
          "data": {
            "text/plain": [
              "<Figure size 432x288 with 1 Axes>"
            ],
            "image/png": "[encoded data removed]"
          },
          "metadata": {
            "needs_background": "light"
          }
        }
      ]
    }
  ]
}