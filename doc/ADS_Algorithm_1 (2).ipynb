{
  "cells": [
    {
      "cell_type": "markdown",
      "metadata": {
        "id": "pPxkYJFzpAT8"
      },
      "source": [
        "# Learning Fair Representations\n",
        "\n",
        "### Notations:\n",
        "\n",
        "$\\mathbb{X}$ denotes all individual in dataset with $D$ features\n",
        "\n",
        "$\\mathbb{S}$ denotes whether individual are protected or not. In our case,race is the sensitive feature that need to be protected.\n",
        "$\\mathbb{S}=1$ indicate that individual are African-American (protected), $\\mathbb{S}=0$ indicates individual are Caucasian (unprotected).\n",
        "\n",
        "$\\mathbb{X}^-$ denotes subset of dataset that individual belongs to unprotected group($\\mathbb{S}=0$), whereas $\\mathbb{X}^+$  denotes subset of individual belongs to ptotected group($\\mathbb{S}=1$).\n",
        "\n",
        "$V_k$ denotes the vector with dimension $D$ associated with \"prototypes\". Prototypes comes from the variable $\\mathbb{Z} \\sim multinorm(k,n,p_1,p_2,.......p_k)$,where $k$ values represent the intermediate prototypes.\n",
        "\n",
        "\n",
        "$\\mathbb{Y}$ denotes the binary variable that classify each individuals. In our case, $\\mathbb{Y} = 1$ denotes individual are classfied as \"Recided in two years\", and  $\\mathbb{Y} = 0$ denotes individual are classfied as \"Not Recided in two years\".\n",
        "\n",
        "### Goal of algorithms:\n",
        "\n",
        "#### Objective function:\n",
        "\n",
        "Minimize $L = A_z⋅L_z+A_x⋅L_x+A_y⋅L_y $\n",
        "\n",
        "### LFR Model:\n",
        "\n",
        "Find the intermidiate representation by encoding the original dataset such that it preserves as much as possible information of individual's features and it is blinded to distinguish between protected group and unprotected group. \n",
        "\n",
        "That is, when the algorithms maps the original dataset $\\mathbb{X}$ to prototypes, the infomation that whether or not the individual belongs to protected group are removed. To achieve this, formula of statistical parity are used:\n",
        "\n",
        "$$ P(Z = k|x^+ ∈ \\mathbb{X}^+) = P(Z = k|x^- ∈ \\mathbb{X}^-)\\ for\\ all\\ k$$\n",
        "\n",
        "Where the probability are formulated by Softmax:\n",
        "\n",
        "$$P(Z = k| X = x) = \\frac{exp(-dist(x,v_k)}{∑_{j=1}^{K}exp[-dist(x,v_j)] } $$\n",
        "\n",
        "So after mapping $\\mathbb{X}$ to $Z$, we hope the expectation value of probability mapping $\\mathbb{X}^-$ to $v_k$ equals to expectation value of probability mapping $\\mathbb{X}^+$ to $v_k$.\n",
        "\n",
        "That is,\n",
        "$$ M_k^+ = M_k^-$$ where $$M_k^+ = \\mathbb{E}_{x \\in X^+} P(Z=k|X) = \\frac{1}{|X^+|}∑_{n \\in X^+}M_{n,k} $$\n",
        "\n",
        "And \n",
        "$$ M_{n,k} = P(Z = k|X_n)\\ \\ for\\ all\\ \\ n,k $$\n",
        "\n",
        "The algorithm is aimed to minimize objective function by the following three terms:\n",
        "\n",
        "$$L_z = ∑_{k=1}^K |M_k^+ - M_k^-|  $$\n",
        "\n",
        "$$L_x = ∑_{n=1}^N (x_n - \\hat{x_n})^2 \\ \\ where \\ \\ \\hat{x_n} = ∑_{k=1}^KM_{n,k}V_k$$\n",
        "\n",
        "$$L_y = ∑_{n=1}^N -y_nlog \\hat{y_n} - (1-y_n)log(1- \\hat{y_n}) \\ \\ where \\ \\ \\hat{y_n} = ∑_{k=1}^KM_{n,k}w_k$$\n",
        "\n",
        "\n",
        "\n",
        "\n",
        "\n",
        "\n"
      ]
    },
    {
      "cell_type": "markdown",
      "metadata": {
        "id": "JRSTKJ8Gzpyi"
      },
      "source": [
        "### Define functions needed in algotithm"
      ]
    },
    {
      "cell_type": "code",
      "execution_count": 1,
      "metadata": {
        "id": "LIOjZIYG04kS"
      },
      "outputs": [],
      "source": [
        "import numpy as np\n",
        "import pandas as pd"
      ]
    },
    {
      "cell_type": "code",
      "execution_count": 7,
      "metadata": {
        "id": "pOwEOycoIPlG"
      },
      "outputs": [],
      "source": [
        "def distances(X, V, alpha):\n",
        "  N,D = X.shape\n",
        "  K,D = V.shape\n",
        "  dists = np.zeros((N, D))\n",
        "  for i in range(N):\n",
        "    for d in range(D):\n",
        "      for k in range(K):    \n",
        "        dists[i, k] += (X[i, d] - V[k, d]) * (X[i, d] - V[k, d]) * alpha[d]\n",
        "    return dists"
      ]
    },
    {
      "cell_type": "code",
      "execution_count": 8,
      "metadata": {
        "id": "91l7JOZfIhGf"
      },
      "outputs": [],
      "source": [
        "def M_nks(dists,K):\n",
        "  N,D = dists.shape\n",
        "  upper = np.zeros((N,K))\n",
        "  lower = np.zeros(N)\n",
        "  M_nks = np.zeros((N,K))\n",
        "  for i in range(N):\n",
        "    for j in range(K):\n",
        "      upper[i,j] = np.exp(-dists[i,j])\n",
        "      lower[i] += upper[i,j]\n",
        "    for j in range(K):\n",
        "      if lower[i]:\n",
        "        M_nks[i,j] = upper[i,j]/lower[i]\n",
        "      else:\n",
        "        M_nks[i, j] = upper[i, j] / 1e-6\n",
        "  return M_nks"
      ]
    },
    {
      "cell_type": "code",
      "execution_count": 9,
      "metadata": {
        "id": "-EyYvK4BOshd"
      },
      "outputs": [],
      "source": [
        "def M_ks (X,M_nks):\n",
        "  N,K = M_nks.shape\n",
        "  M_ks = np.zeros(K)\n",
        "  for i in range(K):\n",
        "    for j in range(N):\n",
        "      M_ks[i] += M_nks[j,i]\n",
        "    M_ks[i] = M_ks[i]/N\n",
        "  return M_ks"
      ]
    },
    {
      "cell_type": "code",
      "execution_count": 10,
      "metadata": {
        "id": "el3O7dfgSw-8"
      },
      "outputs": [],
      "source": [
        "def X_hat(X,V,M_nks):\n",
        "  N,D = X.shape\n",
        "  K,D = V.shape\n",
        "  X_hat = np.zeros((N,D))\n",
        "  for i in range(N):\n",
        "    for d in range(D):\n",
        "      for j in range(K):\n",
        "        X_hat[i,d] += M_nks[i,j]*V[j,d]\n",
        "  return X_hat\n"
      ]
    },
    {
      "cell_type": "code",
      "execution_count": 11,
      "metadata": {
        "id": "6WXNQtYVVw22"
      },
      "outputs": [],
      "source": [
        "def l_x(X,X_hat):\n",
        "  l_x = 0\n",
        "  N,D = X.shape\n",
        "  for i in range(N):\n",
        "    for d in range(D):\n",
        "      l_x += (X[i,d]-X_hat[i,d])**2\n",
        "  return l_x"
      ]
    },
    {
      "cell_type": "code",
      "execution_count": 12,
      "metadata": {
        "id": "IXpE5B6zWfYj"
      },
      "outputs": [],
      "source": [
        "def Y_hat(M_nks,W):\n",
        "  N,K = M_nks.shape\n",
        "  Y_hat = np.zeros(N)\n",
        "  for i in range(N):\n",
        "    for j in range(K):\n",
        "      Y_hat[i] += M_nks[i,j]*W[j]\n",
        "    Y_hat[i] = 1e-6 if Y_hat[i] <= 0 else Y_hat[i]\n",
        "    Y_hat[i] = 0.999 if Y_hat[i] >= 1 else Y_hat[i]\n",
        "  return Y_hat"
      ]
    },
    {
      "cell_type": "code",
      "execution_count": 13,
      "metadata": {
        "id": "LcV034lZXQ31"
      },
      "outputs": [],
      "source": [
        "def l_y(Y,Y_hat):\n",
        "  l_y = 0\n",
        "  N = len(Y)\n",
        "  for i in range(N):\n",
        "    l_y += -Y[i]*np.log(Y_hat[i]) - (1-Y[i])*(np.log(1-Y_hat[i]))\n",
        "  return l_y"
      ]
    },
    {
      "cell_type": "code",
      "execution_count": 14,
      "metadata": {
        "id": "-CV2w8Y3YVVX"
      },
      "outputs": [],
      "source": [
        "def LFR(params,X_sen,X_unsen,Y_sen,Y_unsen, k=10, A_x = 1e-4, A_y = 0.1, A_z = 1000, result=0):\n",
        "  LFR.iters+=1\n",
        "  N1,P = X_sen.shape\n",
        "  N0,_ = X_unsen.shape\n",
        "\n",
        "  alpha0 = params[:P]\n",
        "  alpha1 = params[P: 2 * P]\n",
        "  W = params[2 * P: (2 * P) + k]\n",
        "  V = np.matrix(params[(2 * P) + k:]).reshape((k, P))\n",
        "  dists_sen = distances(X_sen, V, alpha1)\n",
        "  dists_unsen = distances(X_unsen, V, alpha0)\n",
        "  M_nks_sen = M_nks(dists_sen,k)\n",
        "  M_nks_unsen = M_nks(dists_unsen,k)\n",
        "  M_ks_sen = M_ks(X_sen,M_nks_sen)\n",
        "  M_ks_unsen = M_ks(X_unsen,M_nks_unsen)\n",
        "\n",
        "  X_hat_sen = X_hat(X_sen,V,M_nks_sen)\n",
        "  X_hat_unsen = X_hat(X_unsen,V,M_nks_unsen)\n",
        "  \n",
        "  L_x_1 =  l_x(X_sen,X_hat_sen)\n",
        "  L_x_0 = l_x(X_unsen,X_hat_unsen)\n",
        "\n",
        "  Y_hat_sen = Y_hat(M_nks_sen,W)\n",
        "  Y_hat_unsen = Y_hat(M_nks_unsen,W)\n",
        "\n",
        "  L_y_1 = l_y(Y_sen,Y_hat_sen)\n",
        "  L_y_0 = l_y(Y_unsen,Y_hat_unsen)\n",
        "\n",
        "  L_X = L_x_1+L_x_0\n",
        "  L_Y = L_y_1+L_y_0\n",
        "\n",
        "  L_z = 0\n",
        "  \n",
        "  for i in range(k):\n",
        "    L_z += abs(M_ks_sen[i]-M_ks_unsen[i])\n",
        "\n",
        "  L_obj = A_z*L_z + A_x*L_X + A_y*L_Y\n",
        "\n",
        "  if LFR.iters % 250 == 0:\n",
        "    print(LFR.iters, L_obj)\n",
        "  \n",
        "  if result:\n",
        "    return Y_hat_sen, Y_hat_unsen, M_nks_sen , M_nks_unsen\n",
        "  else:\n",
        "    return L_obj\n"
      ]
    },
    {
      "cell_type": "markdown",
      "metadata": {
        "id": "jCjzHJJJBaEA"
      },
      "source": [
        "### Data"
      ]
    },
    {
      "cell_type": "code",
      "execution_count": 15,
      "metadata": {
        "id": "BqoxN9Fp4oxa"
      },
      "outputs": [],
      "source": [
        "import numpy as np\n",
        "import pandas as pd\n",
        "import matplotlib.pyplot as plt\n",
        "from sklearn.model_selection import train_test_split\n",
        "import random\n",
        "import scipy\n",
        "from scipy import optimize\n",
        "\n",
        "import torch as t\n",
        "import torch.nn as nn"
      ]
    },
    {
      "cell_type": "code",
      "execution_count": 53,
      "metadata": {
        "id": "73BEBSPYbr-i"
      },
      "outputs": [],
      "source": [
        "def remove_missing_records(df: pd.DataFrame, threshold: float = 0.5) -> pd.DataFrame:\n",
        "    \"\"\"Remove records with missing values above a threshold.\"\"\"\n",
        "    # Get the number of missing values per column\n",
        "    missing = df.isna().sum()\n",
        "    # Get the columns with missing values above the threshold\n",
        "    cols = missing[missing > threshold * df.shape[0]].index\n",
        "    # Remove the columns\n",
        "    df = df.drop(cols, axis=1)\n",
        "    # Remove the rows with missing values\n",
        "    df = df.dropna()\n",
        "    return df\n",
        "\n",
        "def inpute_missing_data(df):\n",
        "    \"\"\"Inpute missing data with the mean.\"\"\"\n",
        "    # Get the number of missing values per column\n",
        "    missing = df.isna().sum()\n",
        "    # Get the columns with missing values\n",
        "    cols = missing[missing > 0].index\n",
        "    # Inpute the missing values with the mean\n",
        "    for col in cols:\n",
        "        df[col] = df[col].fillna(df[col].mean())\n",
        "    return df\n",
        "\n",
        "def preprocess_data(df: pd.DataFrame) -> pd.DataFrame:\n",
        "    \"\"\"Preprocess the data.\"\"\"\n",
        "    # Remove the records with missing values\n",
        "    df = remove_missing_records(df)\n",
        "    # Inpute the missing values\n",
        "    df = inpute_missing_data(df)\n",
        "    return df"
      ]
    },
    {
      "cell_type": "code",
      "execution_count": 38,
      "metadata": {
        "id": "q8-qMCd34ozf"
      },
      "outputs": [],
      "source": [
        "data = pd.read_csv('https://raw.githubusercontent.com/propublica/compas-analysis/master/compas-scores-two-years.csv')"
      ]
    },
    {
      "cell_type": "code",
      "execution_count": 39,
      "metadata": {
        "colab": {
          "base_uri": "https://localhost:8080/",
          "height": 386
        },
        "id": "WR0g1sUl4o11",
        "outputId": "3a4b1e33-44df-4ccb-8bc5-cb4f1cb4cdcb"
      },
      "outputs": [
        {
          "output_type": "execute_result",
          "data": {
            "text/plain": [
              "   id                name   first         last compas_screening_date   sex  \\\n",
              "0   1    miguel hernandez  miguel    hernandez            2013-08-14  Male   \n",
              "1   3         kevon dixon   kevon        dixon            2013-01-27  Male   \n",
              "2   4            ed philo      ed        philo            2013-04-14  Male   \n",
              "3   5         marcu brown   marcu        brown            2013-01-13  Male   \n",
              "4   6  bouthy pierrelouis  bouthy  pierrelouis            2013-03-26  Male   \n",
              "\n",
              "          dob  age          age_cat              race  ...  v_decile_score  \\\n",
              "0  1947-04-18   69  Greater than 45             Other  ...               1   \n",
              "1  1982-01-22   34          25 - 45  African-American  ...               1   \n",
              "2  1991-05-14   24     Less than 25  African-American  ...               3   \n",
              "3  1993-01-21   23     Less than 25  African-American  ...               6   \n",
              "4  1973-01-22   43          25 - 45             Other  ...               1   \n",
              "\n",
              "   v_score_text  v_screening_date  in_custody  out_custody  priors_count.1  \\\n",
              "0           Low        2013-08-14  2014-07-07   2014-07-14               0   \n",
              "1           Low        2013-01-27  2013-01-26   2013-02-05               0   \n",
              "2           Low        2013-04-14  2013-06-16   2013-06-16               4   \n",
              "3        Medium        2013-01-13         NaN          NaN               1   \n",
              "4           Low        2013-03-26         NaN          NaN               2   \n",
              "\n",
              "  start   end event two_year_recid  \n",
              "0     0   327     0              0  \n",
              "1     9   159     1              1  \n",
              "2     0    63     0              1  \n",
              "3     0  1174     0              0  \n",
              "4     0  1102     0              0  \n",
              "\n",
              "[5 rows x 53 columns]"
            ],
            "text/html": [
              "\n",
              "  <div id=\"df-14a3ffde-8c4e-41c9-b7e9-c3f6fce644ef\">\n",
              "    <div class=\"colab-df-container\">\n",
              "      <div>\n",
              "<style scoped>\n",
              "    .dataframe tbody tr th:only-of-type {\n",
              "        vertical-align: middle;\n",
              "    }\n",
              "\n",
              "    .dataframe tbody tr th {\n",
              "        vertical-align: top;\n",
              "    }\n",
              "\n",
              "    .dataframe thead th {\n",
              "        text-align: right;\n",
              "    }\n",
              "</style>\n",
              "<table border=\"1\" class=\"dataframe\">\n",
              "  <thead>\n",
              "    <tr style=\"text-align: right;\">\n",
              "      <th></th>\n",
              "      <th>id</th>\n",
              "      <th>name</th>\n",
              "      <th>first</th>\n",
              "      <th>last</th>\n",
              "      <th>compas_screening_date</th>\n",
              "      <th>sex</th>\n",
              "      <th>dob</th>\n",
              "      <th>age</th>\n",
              "      <th>age_cat</th>\n",
              "      <th>race</th>\n",
              "      <th>...</th>\n",
              "      <th>v_decile_score</th>\n",
              "      <th>v_score_text</th>\n",
              "      <th>v_screening_date</th>\n",
              "      <th>in_custody</th>\n",
              "      <th>out_custody</th>\n",
              "      <th>priors_count.1</th>\n",
              "      <th>start</th>\n",
              "      <th>end</th>\n",
              "      <th>event</th>\n",
              "      <th>two_year_recid</th>\n",
              "    </tr>\n",
              "  </thead>\n",
              "  <tbody>\n",
              "    <tr>\n",
              "      <th>0</th>\n",
              "      <td>1</td>\n",
              "      <td>miguel hernandez</td>\n",
              "      <td>miguel</td>\n",
              "      <td>hernandez</td>\n",
              "      <td>2013-08-14</td>\n",
              "      <td>Male</td>\n",
              "      <td>1947-04-18</td>\n",
              "      <td>69</td>\n",
              "      <td>Greater than 45</td>\n",
              "      <td>Other</td>\n",
              "      <td>...</td>\n",
              "      <td>1</td>\n",
              "      <td>Low</td>\n",
              "      <td>2013-08-14</td>\n",
              "      <td>2014-07-07</td>\n",
              "      <td>2014-07-14</td>\n",
              "      <td>0</td>\n",
              "      <td>0</td>\n",
              "      <td>327</td>\n",
              "      <td>0</td>\n",
              "      <td>0</td>\n",
              "    </tr>\n",
              "    <tr>\n",
              "      <th>1</th>\n",
              "      <td>3</td>\n",
              "      <td>kevon dixon</td>\n",
              "      <td>kevon</td>\n",
              "      <td>dixon</td>\n",
              "      <td>2013-01-27</td>\n",
              "      <td>Male</td>\n",
              "      <td>1982-01-22</td>\n",
              "      <td>34</td>\n",
              "      <td>25 - 45</td>\n",
              "      <td>African-American</td>\n",
              "      <td>...</td>\n",
              "      <td>1</td>\n",
              "      <td>Low</td>\n",
              "      <td>2013-01-27</td>\n",
              "      <td>2013-01-26</td>\n",
              "      <td>2013-02-05</td>\n",
              "      <td>0</td>\n",
              "      <td>9</td>\n",
              "      <td>159</td>\n",
              "      <td>1</td>\n",
              "      <td>1</td>\n",
              "    </tr>\n",
              "    <tr>\n",
              "      <th>2</th>\n",
              "      <td>4</td>\n",
              "      <td>ed philo</td>\n",
              "      <td>ed</td>\n",
              "      <td>philo</td>\n",
              "      <td>2013-04-14</td>\n",
              "      <td>Male</td>\n",
              "      <td>1991-05-14</td>\n",
              "      <td>24</td>\n",
              "      <td>Less than 25</td>\n",
              "      <td>African-American</td>\n",
              "      <td>...</td>\n",
              "      <td>3</td>\n",
              "      <td>Low</td>\n",
              "      <td>2013-04-14</td>\n",
              "      <td>2013-06-16</td>\n",
              "      <td>2013-06-16</td>\n",
              "      <td>4</td>\n",
              "      <td>0</td>\n",
              "      <td>63</td>\n",
              "      <td>0</td>\n",
              "      <td>1</td>\n",
              "    </tr>\n",
              "    <tr>\n",
              "      <th>3</th>\n",
              "      <td>5</td>\n",
              "      <td>marcu brown</td>\n",
              "      <td>marcu</td>\n",
              "      <td>brown</td>\n",
              "      <td>2013-01-13</td>\n",
              "      <td>Male</td>\n",
              "      <td>1993-01-21</td>\n",
              "      <td>23</td>\n",
              "      <td>Less than 25</td>\n",
              "      <td>African-American</td>\n",
              "      <td>...</td>\n",
              "      <td>6</td>\n",
              "      <td>Medium</td>\n",
              "      <td>2013-01-13</td>\n",
              "      <td>NaN</td>\n",
              "      <td>NaN</td>\n",
              "      <td>1</td>\n",
              "      <td>0</td>\n",
              "      <td>1174</td>\n",
              "      <td>0</td>\n",
              "      <td>0</td>\n",
              "    </tr>\n",
              "    <tr>\n",
              "      <th>4</th>\n",
              "      <td>6</td>\n",
              "      <td>bouthy pierrelouis</td>\n",
              "      <td>bouthy</td>\n",
              "      <td>pierrelouis</td>\n",
              "      <td>2013-03-26</td>\n",
              "      <td>Male</td>\n",
              "      <td>1973-01-22</td>\n",
              "      <td>43</td>\n",
              "      <td>25 - 45</td>\n",
              "      <td>Other</td>\n",
              "      <td>...</td>\n",
              "      <td>1</td>\n",
              "      <td>Low</td>\n",
              "      <td>2013-03-26</td>\n",
              "      <td>NaN</td>\n",
              "      <td>NaN</td>\n",
              "      <td>2</td>\n",
              "      <td>0</td>\n",
              "      <td>1102</td>\n",
              "      <td>0</td>\n",
              "      <td>0</td>\n",
              "    </tr>\n",
              "  </tbody>\n",
              "</table>\n",
              "<p>5 rows × 53 columns</p>\n",
              "</div>\n",
              "      <button class=\"colab-df-convert\" onclick=\"convertToInteractive('df-14a3ffde-8c4e-41c9-b7e9-c3f6fce644ef')\"\n",
              "              title=\"Convert this dataframe to an interactive table.\"\n",
              "              style=\"display:none;\">\n",
              "        \n",
              "  <svg xmlns=\"http://www.w3.org/2000/svg\" height=\"24px\"viewBox=\"0 0 24 24\"\n",
              "       width=\"24px\">\n",
              "    <path d=\"M0 0h24v24H0V0z\" fill=\"none\"/>\n",
              "    <path d=\"M18.56 5.44l.94 2.06.94-2.06 2.06-.94-2.06-.94-.94-2.06-.94 2.06-2.06.94zm-11 1L8.5 8.5l.94-2.06 2.06-.94-2.06-.94L8.5 2.5l-.94 2.06-2.06.94zm10 10l.94 2.06.94-2.06 2.06-.94-2.06-.94-.94-2.06-.94 2.06-2.06.94z\"/><path d=\"M17.41 7.96l-1.37-1.37c-.4-.4-.92-.59-1.43-.59-.52 0-1.04.2-1.43.59L10.3 9.45l-7.72 7.72c-.78.78-.78 2.05 0 2.83L4 21.41c.39.39.9.59 1.41.59.51 0 1.02-.2 1.41-.59l7.78-7.78 2.81-2.81c.8-.78.8-2.07 0-2.86zM5.41 20L4 18.59l7.72-7.72 1.47 1.35L5.41 20z\"/>\n",
              "  </svg>\n",
              "      </button>\n",
              "      \n",
              "  <style>\n",
              "    .colab-df-container {\n",
              "      display:flex;\n",
              "      flex-wrap:wrap;\n",
              "      gap: 12px;\n",
              "    }\n",
              "\n",
              "    .colab-df-convert {\n",
              "      background-color: #E8F0FE;\n",
              "      border: none;\n",
              "      border-radius: 50%;\n",
              "      cursor: pointer;\n",
              "      display: none;\n",
              "      fill: #1967D2;\n",
              "      height: 32px;\n",
              "      padding: 0 0 0 0;\n",
              "      width: 32px;\n",
              "    }\n",
              "\n",
              "    .colab-df-convert:hover {\n",
              "      background-color: #E2EBFA;\n",
              "      box-shadow: 0px 1px 2px rgba(60, 64, 67, 0.3), 0px 1px 3px 1px rgba(60, 64, 67, 0.15);\n",
              "      fill: #174EA6;\n",
              "    }\n",
              "\n",
              "    [theme=dark] .colab-df-convert {\n",
              "      background-color: #3B4455;\n",
              "      fill: #D2E3FC;\n",
              "    }\n",
              "\n",
              "    [theme=dark] .colab-df-convert:hover {\n",
              "      background-color: #434B5C;\n",
              "      box-shadow: 0px 1px 3px 1px rgba(0, 0, 0, 0.15);\n",
              "      filter: drop-shadow(0px 1px 2px rgba(0, 0, 0, 0.3));\n",
              "      fill: #FFFFFF;\n",
              "    }\n",
              "  </style>\n",
              "\n",
              "      <script>\n",
              "        const buttonEl =\n",
              "          document.querySelector('#df-14a3ffde-8c4e-41c9-b7e9-c3f6fce644ef button.colab-df-convert');\n",
              "        buttonEl.style.display =\n",
              "          google.colab.kernel.accessAllowed ? 'block' : 'none';\n",
              "\n",
              "        async function convertToInteractive(key) {\n",
              "          const element = document.querySelector('#df-14a3ffde-8c4e-41c9-b7e9-c3f6fce644ef');\n",
              "          const dataTable =\n",
              "            await google.colab.kernel.invokeFunction('convertToInteractive',\n",
              "                                                     [key], {});\n",
              "          if (!dataTable) return;\n",
              "\n",
              "          const docLinkHtml = 'Like what you see? Visit the ' +\n",
              "            '<a target=\"_blank\" href=https://colab.research.google.com/notebooks/data_table.ipynb>data table notebook</a>'\n",
              "            + ' to learn more about interactive tables.';\n",
              "          element.innerHTML = '';\n",
              "          dataTable['output_type'] = 'display_data';\n",
              "          await google.colab.output.renderOutput(dataTable, element);\n",
              "          const docLink = document.createElement('div');\n",
              "          docLink.innerHTML = docLinkHtml;\n",
              "          element.appendChild(docLink);\n",
              "        }\n",
              "      </script>\n",
              "    </div>\n",
              "  </div>\n",
              "  "
            ]
          },
          "metadata": {},
          "execution_count": 39
        }
      ],
      "source": [
        "data.head()"
      ]
    },
    {
      "cell_type": "code",
      "execution_count": 40,
      "metadata": {
        "id": "NEey5Yvd4o4K"
      },
      "outputs": [],
      "source": [
        "data = data[['age', 'c_charge_degree', 'race', 'age_cat', 'score_text', 'sex', 'priors_count',             \n",
        "            'days_b_screening_arrest', 'decile_score', 'is_recid', 'two_year_recid', 'c_jail_in', 'c_jail_out']]\n",
        "data = data.loc[(data['days_b_screening_arrest'] <= 30) & (data['days_b_screening_arrest'] >= -30)]\n",
        "data = data.loc[data['is_recid'] != -1]\n",
        "data = data.loc[data['score_text'] != 'N/A']\n",
        "data[\"length_of_stay\"] = (pd.to_datetime(data['c_jail_out'])-pd.to_datetime(data['c_jail_in'])).dt.days\n",
        "data = data.drop(columns=['c_jail_in', 'c_jail_out'])\n",
        "data = data.loc[(data[\"race\"] == \"African-American\") | (data[\"race\"] == \"Caucasian\")]\n",
        "data = data.replace({'race': 'Caucasian'}, 1)\n",
        "data = data.replace({'race': 'African-American'}, 0)\n",
        "\n",
        "data = data.replace({'sex': 'Male'}, 1)\n",
        "data = data.replace({'sex': 'Female'}, 0)\n",
        "\n",
        "data = data.replace({'age_cat': 'Less than 25'}, 0)\n",
        "data = data.replace({'age_cat': '25 - 45'}, 1)\n",
        "data = data.replace({'age_cat': 'Greater than 45'}, 2)\n",
        "\n",
        "data = data.replace({'c_charge_degree': 'F'}, 0)\n",
        "data = data.replace({'c_charge_degree': 'M'}, 1)\n",
        "\n",
        "data = data.replace({'score_text': 'Low'}, 0)\n",
        "data = data.replace({'score_text': 'Medium'}, 1)\n",
        "data = data.replace({'score_text': 'High'}, 2)"
      ]
    },
    {
      "cell_type": "code",
      "execution_count": 19,
      "metadata": {
        "colab": {
          "base_uri": "https://localhost:8080/",
          "height": 206
        },
        "id": "QdT-zxx9B6Ke",
        "outputId": "30bd1ef8-a8cc-4f59-9e3f-3930ead5cb06"
      },
      "outputs": [
        {
          "output_type": "execute_result",
          "data": {
            "text/plain": [
              "    age  c_charge_degree  race  age_cat  score_text  sex  priors_count  \\\n",
              "1    34                0     0        1           0    1             0   \n",
              "2    24                0     0        0           0    1             4   \n",
              "6    41                0     1        1           1    1            14   \n",
              "8    39                1     1        1           0    0             0   \n",
              "10   27                0     1        1           0    1             0   \n",
              "\n",
              "    days_b_screening_arrest  decile_score  is_recid  two_year_recid  \\\n",
              "1                      -1.0             3         1               1   \n",
              "2                      -1.0             4         1               1   \n",
              "6                      -1.0             6         1               1   \n",
              "8                      -1.0             1         0               0   \n",
              "10                     -1.0             4         0               0   \n",
              "\n",
              "    length_of_stay  \n",
              "1               10  \n",
              "2                1  \n",
              "6                6  \n",
              "8                2  \n",
              "10               1  "
            ],
            "text/html": [
              "\n",
              "  <div id=\"df-a0e239b9-4602-4e21-a2da-ff4133191209\">\n",
              "    <div class=\"colab-df-container\">\n",
              "      <div>\n",
              "<style scoped>\n",
              "    .dataframe tbody tr th:only-of-type {\n",
              "        vertical-align: middle;\n",
              "    }\n",
              "\n",
              "    .dataframe tbody tr th {\n",
              "        vertical-align: top;\n",
              "    }\n",
              "\n",
              "    .dataframe thead th {\n",
              "        text-align: right;\n",
              "    }\n",
              "</style>\n",
              "<table border=\"1\" class=\"dataframe\">\n",
              "  <thead>\n",
              "    <tr style=\"text-align: right;\">\n",
              "      <th></th>\n",
              "      <th>age</th>\n",
              "      <th>c_charge_degree</th>\n",
              "      <th>race</th>\n",
              "      <th>age_cat</th>\n",
              "      <th>score_text</th>\n",
              "      <th>sex</th>\n",
              "      <th>priors_count</th>\n",
              "      <th>days_b_screening_arrest</th>\n",
              "      <th>decile_score</th>\n",
              "      <th>is_recid</th>\n",
              "      <th>two_year_recid</th>\n",
              "      <th>length_of_stay</th>\n",
              "    </tr>\n",
              "  </thead>\n",
              "  <tbody>\n",
              "    <tr>\n",
              "      <th>1</th>\n",
              "      <td>34</td>\n",
              "      <td>0</td>\n",
              "      <td>0</td>\n",
              "      <td>1</td>\n",
              "      <td>0</td>\n",
              "      <td>1</td>\n",
              "      <td>0</td>\n",
              "      <td>-1.0</td>\n",
              "      <td>3</td>\n",
              "      <td>1</td>\n",
              "      <td>1</td>\n",
              "      <td>10</td>\n",
              "    </tr>\n",
              "    <tr>\n",
              "      <th>2</th>\n",
              "      <td>24</td>\n",
              "      <td>0</td>\n",
              "      <td>0</td>\n",
              "      <td>0</td>\n",
              "      <td>0</td>\n",
              "      <td>1</td>\n",
              "      <td>4</td>\n",
              "      <td>-1.0</td>\n",
              "      <td>4</td>\n",
              "      <td>1</td>\n",
              "      <td>1</td>\n",
              "      <td>1</td>\n",
              "    </tr>\n",
              "    <tr>\n",
              "      <th>6</th>\n",
              "      <td>41</td>\n",
              "      <td>0</td>\n",
              "      <td>1</td>\n",
              "      <td>1</td>\n",
              "      <td>1</td>\n",
              "      <td>1</td>\n",
              "      <td>14</td>\n",
              "      <td>-1.0</td>\n",
              "      <td>6</td>\n",
              "      <td>1</td>\n",
              "      <td>1</td>\n",
              "      <td>6</td>\n",
              "    </tr>\n",
              "    <tr>\n",
              "      <th>8</th>\n",
              "      <td>39</td>\n",
              "      <td>1</td>\n",
              "      <td>1</td>\n",
              "      <td>1</td>\n",
              "      <td>0</td>\n",
              "      <td>0</td>\n",
              "      <td>0</td>\n",
              "      <td>-1.0</td>\n",
              "      <td>1</td>\n",
              "      <td>0</td>\n",
              "      <td>0</td>\n",
              "      <td>2</td>\n",
              "    </tr>\n",
              "    <tr>\n",
              "      <th>10</th>\n",
              "      <td>27</td>\n",
              "      <td>0</td>\n",
              "      <td>1</td>\n",
              "      <td>1</td>\n",
              "      <td>0</td>\n",
              "      <td>1</td>\n",
              "      <td>0</td>\n",
              "      <td>-1.0</td>\n",
              "      <td>4</td>\n",
              "      <td>0</td>\n",
              "      <td>0</td>\n",
              "      <td>1</td>\n",
              "    </tr>\n",
              "  </tbody>\n",
              "</table>\n",
              "</div>\n",
              "      <button class=\"colab-df-convert\" onclick=\"convertToInteractive('df-a0e239b9-4602-4e21-a2da-ff4133191209')\"\n",
              "              title=\"Convert this dataframe to an interactive table.\"\n",
              "              style=\"display:none;\">\n",
              "        \n",
              "  <svg xmlns=\"http://www.w3.org/2000/svg\" height=\"24px\"viewBox=\"0 0 24 24\"\n",
              "       width=\"24px\">\n",
              "    <path d=\"M0 0h24v24H0V0z\" fill=\"none\"/>\n",
              "    <path d=\"M18.56 5.44l.94 2.06.94-2.06 2.06-.94-2.06-.94-.94-2.06-.94 2.06-2.06.94zm-11 1L8.5 8.5l.94-2.06 2.06-.94-2.06-.94L8.5 2.5l-.94 2.06-2.06.94zm10 10l.94 2.06.94-2.06 2.06-.94-2.06-.94-.94-2.06-.94 2.06-2.06.94z\"/><path d=\"M17.41 7.96l-1.37-1.37c-.4-.4-.92-.59-1.43-.59-.52 0-1.04.2-1.43.59L10.3 9.45l-7.72 7.72c-.78.78-.78 2.05 0 2.83L4 21.41c.39.39.9.59 1.41.59.51 0 1.02-.2 1.41-.59l7.78-7.78 2.81-2.81c.8-.78.8-2.07 0-2.86zM5.41 20L4 18.59l7.72-7.72 1.47 1.35L5.41 20z\"/>\n",
              "  </svg>\n",
              "      </button>\n",
              "      \n",
              "  <style>\n",
              "    .colab-df-container {\n",
              "      display:flex;\n",
              "      flex-wrap:wrap;\n",
              "      gap: 12px;\n",
              "    }\n",
              "\n",
              "    .colab-df-convert {\n",
              "      background-color: #E8F0FE;\n",
              "      border: none;\n",
              "      border-radius: 50%;\n",
              "      cursor: pointer;\n",
              "      display: none;\n",
              "      fill: #1967D2;\n",
              "      height: 32px;\n",
              "      padding: 0 0 0 0;\n",
              "      width: 32px;\n",
              "    }\n",
              "\n",
              "    .colab-df-convert:hover {\n",
              "      background-color: #E2EBFA;\n",
              "      box-shadow: 0px 1px 2px rgba(60, 64, 67, 0.3), 0px 1px 3px 1px rgba(60, 64, 67, 0.15);\n",
              "      fill: #174EA6;\n",
              "    }\n",
              "\n",
              "    [theme=dark] .colab-df-convert {\n",
              "      background-color: #3B4455;\n",
              "      fill: #D2E3FC;\n",
              "    }\n",
              "\n",
              "    [theme=dark] .colab-df-convert:hover {\n",
              "      background-color: #434B5C;\n",
              "      box-shadow: 0px 1px 3px 1px rgba(0, 0, 0, 0.15);\n",
              "      filter: drop-shadow(0px 1px 2px rgba(0, 0, 0, 0.3));\n",
              "      fill: #FFFFFF;\n",
              "    }\n",
              "  </style>\n",
              "\n",
              "      <script>\n",
              "        const buttonEl =\n",
              "          document.querySelector('#df-a0e239b9-4602-4e21-a2da-ff4133191209 button.colab-df-convert');\n",
              "        buttonEl.style.display =\n",
              "          google.colab.kernel.accessAllowed ? 'block' : 'none';\n",
              "\n",
              "        async function convertToInteractive(key) {\n",
              "          const element = document.querySelector('#df-a0e239b9-4602-4e21-a2da-ff4133191209');\n",
              "          const dataTable =\n",
              "            await google.colab.kernel.invokeFunction('convertToInteractive',\n",
              "                                                     [key], {});\n",
              "          if (!dataTable) return;\n",
              "\n",
              "          const docLinkHtml = 'Like what you see? Visit the ' +\n",
              "            '<a target=\"_blank\" href=https://colab.research.google.com/notebooks/data_table.ipynb>data table notebook</a>'\n",
              "            + ' to learn more about interactive tables.';\n",
              "          element.innerHTML = '';\n",
              "          dataTable['output_type'] = 'display_data';\n",
              "          await google.colab.output.renderOutput(dataTable, element);\n",
              "          const docLink = document.createElement('div');\n",
              "          docLink.innerHTML = docLinkHtml;\n",
              "          element.appendChild(docLink);\n",
              "        }\n",
              "      </script>\n",
              "    </div>\n",
              "  </div>\n",
              "  "
            ]
          },
          "metadata": {},
          "execution_count": 19
        }
      ],
      "source": [
        "data.head()"
      ]
    },
    {
      "cell_type": "code",
      "source": [
        "data.shape"
      ],
      "metadata": {
        "colab": {
          "base_uri": "https://localhost:8080/"
        },
        "id": "fFDBAZD4JrM6",
        "outputId": "cd3d9d54-3cef-458d-b2f8-d0ca8bd8aa8c"
      },
      "execution_count": 42,
      "outputs": [
        {
          "output_type": "execute_result",
          "data": {
            "text/plain": [
              "(5278, 12)"
            ]
          },
          "metadata": {},
          "execution_count": 42
        }
      ]
    },
    {
      "cell_type": "code",
      "execution_count": 43,
      "metadata": {
        "id": "1wQ05-MjCAE5"
      },
      "outputs": [],
      "source": [
        "X = data.drop(columns=[\"two_year_recid\"])\n",
        "y = data[\"two_year_recid\"]"
      ]
    },
    {
      "cell_type": "code",
      "execution_count": 44,
      "metadata": {
        "id": "jhgiNsjTCDFX"
      },
      "outputs": [],
      "source": [
        "X_train, X_test, y_train, y_test = train_test_split(X, y, test_size=0.2)\n",
        "X_train_a = X_train[(X_train['race'] == 0)]\n",
        "X_train_c = X_train[(X_train['race'] == 1)]\n",
        "y_train_a = y_train[(X_train['race'] == 0)]\n",
        "y_train_c = y_train[(X_train['race'] == 1)]\n",
        "X_test_a = X_test[(X_test['race'] == 0)]\n",
        "X_test_c = X_test[(X_test['race'] == 1)]\n",
        "y_test_a = y_test[(X_test['race'] == 0)]\n",
        "y_test_c = y_test[(X_test['race'] == 1)]\n",
        "#X_train_a = X_train_a.drop(columns=[\"race\"])\n",
        "#X_train_c = X_train_c.drop(columns=[\"race\"])\n",
        "#X_test_a = X_test_a.drop(columns=[\"race\"])\n",
        "#X_test_c = X_test_c.drop(columns=[\"race\"])\n",
        "X_train_a = t.tensor(np.array(X_train_a)).to(t.float32)\n",
        "y_train_a = t.from_numpy(np.array(y_train_a).astype('float32')).reshape(X_train_a.shape[0], 1)\n",
        "X_train_c = t.tensor(np.array(X_train_c)).to(t.float32)\n",
        "y_train_c = t.from_numpy(np.array(y_train_c).astype('float32')).reshape(X_train_c.shape[0], 1)\n",
        "\n",
        "X_test_a = t.tensor(np.array(X_test_a)).to(t.float32)\n",
        "y_test_a = t.from_numpy(np.array(y_test_a).astype('float32')).reshape(X_test_a.shape[0], 1)\n",
        "X_test_c = t.tensor(np.array(X_test_c)).to(t.float32)\n",
        "y_test_c = t.from_numpy(np.array(y_test_c).astype('float32')).reshape(X_test_c.shape[0], 1)"
      ]
    },
    {
      "cell_type": "code",
      "source": [
        "X_train_a.shape"
      ],
      "metadata": {
        "colab": {
          "base_uri": "https://localhost:8080/"
        },
        "id": "8WS1HziGJwlV",
        "outputId": "89b73250-9afb-41b5-e252-740d53ee5cea"
      },
      "execution_count": 45,
      "outputs": [
        {
          "output_type": "execute_result",
          "data": {
            "text/plain": [
              "torch.Size([2542, 11])"
            ]
          },
          "metadata": {},
          "execution_count": 45
        }
      ]
    },
    {
      "cell_type": "code",
      "execution_count": 46,
      "metadata": {
        "colab": {
          "base_uri": "https://localhost:8080/"
        },
        "id": "p24NW-HONPRN",
        "outputId": "50e2f5e6-3f6f-4c50-a3a7-ef5742c3d46a"
      },
      "outputs": [
        {
          "output_type": "stream",
          "name": "stdout",
          "text": [
            "250 tensor([1949.0575])\n",
            "500 tensor([1938.3824])\n",
            "750 tensor([1898.1364])\n",
            "1000 tensor([1812.1644])\n",
            "1250 tensor([1607.1807])\n",
            "1500 tensor([1630.9956])\n",
            "1750 tensor([1470.9220])\n",
            "2000 tensor([1388.2178])\n"
          ]
        }
      ],
      "source": [
        "LFR.iters = 0\n",
        "# Initialize V_ks\n",
        "#Number of prototypes:K\n",
        "\n",
        "k=10\n",
        "D = 11\n",
        "rez = np.random.uniform(size=D * 2 + k + D * k)\n",
        "\n",
        "bnd = []\n",
        "for i, k2 in enumerate(rez):\n",
        "    if i < D * 2 or i >= D * 2 + k:\n",
        "        bnd.append((None, None))\n",
        "    else:\n",
        "        bnd.append((0, 1))\n",
        "\n",
        "rez = optimize.fmin_l_bfgs_b(LFR, x0=rez, epsilon=1e-3, \n",
        "                          args=(X_train_a, X_train_c, \n",
        "                                y_train_a, y_train_c, k, 1e-4,\n",
        "                                0.1, 1000, 0),\n",
        "                          bounds = bnd, approx_grad=True, maxfun=2000, \n",
        "                          maxiter=2000)\n",
        "\n",
        "w = rez[0][D*2:D*2+k]\n",
        "v = rez[0][D*2+k:].reshape(k,D)"
      ]
    },
    {
      "cell_type": "code",
      "source": [
        "y_test_a = y_test_a.flatten()\n",
        "y_test_a = list(y_test_a)\n",
        "y_test_c = y_test_c.flatten()\n",
        "y_test_c = list(y_test_c)\n",
        "y_test= y_test_a + y_test_c\n",
        "y_test = np.array(y_test)\n"
      ],
      "metadata": {
        "id": "Lr7C8CkVEm9R"
      },
      "execution_count": 47,
      "outputs": []
    },
    {
      "cell_type": "code",
      "source": [
        "LFR.iters=0\n",
        "yhat_a, yhat_c, Mnk_a,Mnk_c = LFR(rez[0],\n",
        "                                    X_train_a,\n",
        "                                    X_train_c,\n",
        "                                    y_train_a,\n",
        "                                    y_train_c,10, 1e-4, 0.1, 1000, result=1)\n",
        "\n",
        "yhat_a_test, yhat_c_test, Mnk_a_test,Mnk_c_test = LFR(rez[0],\n",
        "                                    X_test_a,\n",
        "                                    X_test_c,\n",
        "                                    y_test_a,\n",
        "                                    y_test_c,10, 1e-4, 0.1, 1000, result=1)\n"
      ],
      "metadata": {
        "id": "CHkJmTgtPPyc"
      },
      "execution_count": 48,
      "outputs": []
    },
    {
      "cell_type": "code",
      "source": [
        "Y_pred_a = [1 if y >= 0.5 else 0 for y in yhat_a_test]\n",
        "Y_pred_c = [1 if y >= 0.5 else 0 for  y in yhat_c_test]"
      ],
      "metadata": {
        "id": "q5VV9Wa6TOaA"
      },
      "execution_count": 49,
      "outputs": []
    },
    {
      "cell_type": "code",
      "source": [
        "def metrics_cal1( y_pred_a, y_a, y_pred_c, y_c):\n",
        "    #y_pred_a = (1 if i >= 0.5 else 0 for i in y_pred_a)\n",
        "    #y_pred_c = (1 if i >= 0.5 else 0 for  i in Y_pred_c)\n",
        "    accuracy_a  = np.sum(y_pred_a == y_a.flatten()) / y_a.shape[0]\n",
        "    accuracy_c  = np.sum(y_pred_c == y_c.flatten()) / y_c.shape[0]\n",
        "    accuracy = (accuracy_a + accuracy_c) / 2\n",
        "    discrimination = abs(sum(y_pred_a)/len(y_pred_a)-sum(y_pred_c)/len(y_pred_c))\n",
        "    calibration = abs(accuracy_a - accuracy_c)\n",
        "    return round(accuracy.item(),4), round(calibration.item(),4), round(discrimination.item(),4)"
      ],
      "metadata": {
        "id": "1MqhXEhpKohn"
      },
      "execution_count": 52,
      "outputs": []
    },
    {
      "cell_type": "code",
      "source": [
        "results = metrics_cal1(np.array(Y_pred_a), np.array(y_test_a), np.array(Y_pred_c), np.array(y_test_c))\n",
        "results"
      ],
      "metadata": {
        "colab": {
          "base_uri": "https://localhost:8080/"
        },
        "id": "i0o3BrKETzk_",
        "outputId": "e9600894-5eb5-45ec-f370-d6e2704de7f8"
      },
      "execution_count": 56,
      "outputs": [
        {
          "output_type": "execute_result",
          "data": {
            "text/plain": [
              "(0.4778, 0.1092, 0.0008)"
            ]
          },
          "metadata": {},
          "execution_count": 56
        }
      ]
    },
    {
      "cell_type": "code",
      "source": [
        "from google.colab import drive\n",
        "drive.mount('/content/drive')\n",
        "\n",
        "with open('/content/drive/My Drive/results_LFR.txt', 'w') as f:\n",
        "    np.savetxt(f, results)\n"
      ],
      "metadata": {
        "colab": {
          "base_uri": "https://localhost:8080/"
        },
        "id": "lqXrZxUCEEv3",
        "outputId": "783c4c63-f8dc-4b30-a957-77ba8c5de6b3"
      },
      "execution_count": 58,
      "outputs": [
        {
          "output_type": "stream",
          "name": "stdout",
          "text": [
            "Drive already mounted at /content/drive; to attempt to forcibly remount, call drive.mount(\"/content/drive\", force_remount=True).\n"
          ]
        }
      ]
    }
  ],
  "metadata": {
    "colab": {
      "provenance": []
    },
    "gpuClass": "standard",
    "kernelspec": {
      "display_name": "Python 3",
      "name": "python3"
    },
    "language_info": {
      "name": "python"
    }
  },
  "nbformat": 4,
  "nbformat_minor": 0
}